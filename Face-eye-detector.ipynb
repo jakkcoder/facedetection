{
 "cells": [
  {
   "cell_type": "code",
   "execution_count": 5,
   "metadata": {},
   "outputs": [],
   "source": [
    "import numpy as np\n",
    "import cv2\n",
    "\n",
    "# multiple cascades: https://github.com/Itseez/opencv/tree/master/data/haarcascades\n",
    "\n",
    "#https://github.com/Itseez/opencv/blob/master/data/haarcascades/haarcascade_frontalface_default.xml\n",
    "\n",
    "face_cascade = cv2.CascadeClassifier('haarcascades/haarcascade_frontalface_default.xml')\n",
    "    \n",
    "eye_cascade = cv2.CascadeClassifier('haarcascade_eye.xml')\n"
   ]
  },
  {
   "cell_type": "code",
   "execution_count": 6,
   "metadata": {},
   "outputs": [],
   "source": [
    "\n",
    "cascade_eyes = cv2.CascadeClassifier('haarcascades/haarcascade_eye.xml')\n",
    "cascade_faces = cv2.CascadeClassifier('haarcascades/haarcascade_frontalface_default.xml')\n",
    "cascade_body = cv2.CascadeClassifier('haarcascades/haarcascade_upperbody.xml')\n",
    "\n",
    "\n",
    "\n",
    "cap = cv2.VideoCapture(0)\n",
    "\n",
    "while 1:\n",
    "    _, img = cap.read()\n",
    "    img = cv2.resize(img,(1280,720))\n",
    "    gray = cv2.cvtColor(img, cv2.COLOR_BGR2GRAY)\n",
    "    eyes = cascade_eyes.detectMultiScale(gray, 2.3, 4)\n",
    "    ### Filter for eyes\n",
    "    for (x,y,w,h) in eyes:\n",
    "        cv2.rectangle(img,(x,y),(x+w,y+h),(255,0,0),3)\n",
    "        cv2.putText(img,'eyes',(x,y),cv2.FONT_HERSHEY_COMPLEX,0.5,(250,250,250),1)\n",
    "    \n",
    "    ### Filter for face\n",
    "    \n",
    "    faces = cascade_faces.detectMultiScale(gray, 2.1, 4)\n",
    "\n",
    "    for (x1,y1,w1,h1) in faces:\n",
    "        cv2.rectangle(img,(x1,y1),(x1+w1,y1+h1),(10,255,0),3)\n",
    "        cv2.putText(img,'Face',(x1,y1),cv2.FONT_HERSHEY_COMPLEX,1,(250,250,250),1)\n",
    "    \n",
    "     ### Filter for Smile\n",
    "        \n",
    "#     Smile = cascade_body.detectMultiScale(gray,5, 4)\n",
    "\n",
    "#     for (x2,y2,w2,h2) in Smile:\n",
    "#         cv2.rectangle(img,(x2,y2),(x2+w2,y2+h2),(0,0,250),3)\n",
    "#         cv2.putText(img,'Upper Body',(x2,y2),cv2.FONT_HERSHEY_COMPLEX,1,(250,250,0),1)\n",
    "        \n",
    "    \n",
    "    cv2.imshow('img',img) \n",
    "    if cv2.waitKey(1) == ord('q'):\n",
    "        break\n",
    "\n",
    "cap.release()\n",
    "cv2.destroyAllWindows()"
   ]
  },
  {
   "cell_type": "code",
   "execution_count": null,
   "metadata": {},
   "outputs": [],
   "source": [
    "cv2.putText(frame, class_names[cls], (xy[0], xy[1] - baseline), cv2.FONT_HERSHEY_SIMPLEX, 0.75, (0, 0, 0), 1)"
   ]
  }
 ],
 "metadata": {
  "kernelspec": {
   "display_name": "Python 3",
   "language": "python",
   "name": "python3"
  },
  "language_info": {
   "codemirror_mode": {
    "name": "ipython",
    "version": 3
   },
   "file_extension": ".py",
   "mimetype": "text/x-python",
   "name": "python",
   "nbconvert_exporter": "python",
   "pygments_lexer": "ipython3",
   "version": "3.7.4"
  },
  "toc": {
   "base_numbering": 1,
   "nav_menu": {},
   "number_sections": true,
   "sideBar": true,
   "skip_h1_title": false,
   "title_cell": "Table of Contents",
   "title_sidebar": "Contents",
   "toc_cell": false,
   "toc_position": {},
   "toc_section_display": true,
   "toc_window_display": false
  }
 },
 "nbformat": 4,
 "nbformat_minor": 2
}
